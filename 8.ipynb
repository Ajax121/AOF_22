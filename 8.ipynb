{
 "cells": [
  {
   "cell_type": "code",
   "execution_count": 1,
   "id": "796b0a3b",
   "metadata": {},
   "outputs": [],
   "source": [
    "inp = open('8.txt','r').readlines()"
   ]
  },
  {
   "cell_type": "code",
   "execution_count": 2,
   "id": "a7feb300",
   "metadata": {},
   "outputs": [],
   "source": [
    "import re\n",
    "lst = []\n",
    "for num in inp:\n",
    "    lst.append((re.sub('\\n','',num)))"
   ]
  },
  {
   "cell_type": "code",
   "execution_count": null,
   "id": "59c5a603",
   "metadata": {},
   "outputs": [],
   "source": [
    "# lst"
   ]
  },
  {
   "cell_type": "code",
   "execution_count": 3,
   "id": "ef911da5",
   "metadata": {},
   "outputs": [
    {
     "data": {
      "text/plain": [
       "array([[2., 0., 1., ..., 0., 1., 1.],\n",
       "       [2., 2., 1., ..., 0., 2., 1.],\n",
       "       [1., 0., 2., ..., 0., 1., 2.],\n",
       "       ...,\n",
       "       [0., 2., 1., ..., 1., 1., 2.],\n",
       "       [0., 0., 2., ..., 2., 2., 2.],\n",
       "       [1., 0., 0., ..., 1., 1., 0.]])"
      ]
     },
     "execution_count": 3,
     "metadata": {},
     "output_type": "execute_result"
    }
   ],
   "source": [
    "import numpy as np\n",
    "arr_tst = np.zeros((99,99))\n",
    "for i in range(len(lst)):\n",
    "    for j in range(len(lst[0])):\n",
    "        arr_tst[i][j]=int(lst[i][j])\n",
    "arr_tst"
   ]
  },
  {
   "cell_type": "code",
   "execution_count": 5,
   "id": "6189bb06",
   "metadata": {},
   "outputs": [],
   "source": [
    "# arr_tst = arr_tst.astype(int)"
   ]
  },
  {
   "cell_type": "code",
   "execution_count": 4,
   "id": "43c53f32",
   "metadata": {},
   "outputs": [
    {
     "data": {
      "text/plain": [
       "1390"
      ]
     },
     "execution_count": 4,
     "metadata": {},
     "output_type": "execute_result"
    }
   ],
   "source": [
    "# PART 1\n",
    "count = 0\n",
    "for i in range(1,98):\n",
    "    for j in range(1,98):\n",
    "        if (False not in (arr_tst[i,j]>arr_tst[i,(j+1):])) or (False not in (arr_tst[i,j]>arr_tst[(i+1):,j])) or (False not in (arr_tst[i,j]>arr_tst[i,:j])) or (False not in (arr_tst[i,j]>arr_tst[:i,j])):\n",
    "            count+=1\n",
    "count"
   ]
  },
  {
   "cell_type": "code",
   "execution_count": 5,
   "id": "12af2a43",
   "metadata": {},
   "outputs": [
    {
     "data": {
      "text/plain": [
       "1782"
      ]
     },
     "execution_count": 5,
     "metadata": {},
     "output_type": "execute_result"
    }
   ],
   "source": [
    "4*99-4+1390"
   ]
  },
  {
   "cell_type": "code",
   "execution_count": 6,
   "id": "35cca175",
   "metadata": {},
   "outputs": [
    {
     "name": "stdout",
     "output_type": "stream",
     "text": [
      "[1 1 1 ... 1 2 3] [3 1 1 ... 1 1 1] [3 1 1 ... 1 1 1] [1 1 1 ... 1 1 1]\n",
      "[9 1 1 ... 1 2 3]\n"
     ]
    },
    {
     "data": {
      "text/plain": [
       "474606"
      ]
     },
     "execution_count": 6,
     "metadata": {},
     "output_type": "execute_result"
    }
   ],
   "source": [
    "# PART 2\n",
    "\n",
    "import numpy as np\n",
    "ss = 0\n",
    "down = []\n",
    "right = []\n",
    "up = []\n",
    "left = []\n",
    "for x in range(1,98):\n",
    "    for y in range(1,98):\n",
    "        try:\n",
    "            up.extend([min([i for i, b in enumerate(arr_tst[x,y]>arr_tst[:x,y][::-1]) if not b])])\n",
    "#             print(arr_tst[x,y]>arr_tst[:x,y][::-1])\n",
    "        except:\n",
    "            up.extend([max([i for i, b in enumerate(arr_tst[x,y]>arr_tst[:x,y][::-1]) if b])])\n",
    "        try:\n",
    "            down.extend([min([t for t, u in enumerate(arr_tst[x,y]>arr_tst[(x+1):,y]) if not u])])\n",
    "#             print(arr_tst[x,y]>arr_tst[(x+1):,y],x,y,arr_tst[x,y],arr_tst[(x+1):,y])\n",
    "#             print(arr_tst[(x+1):,y])\n",
    "        except:\n",
    "            down.extend([max([t for t, u in enumerate(arr_tst[x,y]>arr_tst[(x+1):,y]) if u])])\n",
    "            \n",
    "        try:\n",
    "            left.extend([min([i for i, b in enumerate(arr_tst[x,y]>arr_tst[x,:y][::-1]) if not b])])\n",
    "#             print(arr_tst[x,:y][::-1])\n",
    "    #             print(arr_tst[x,y]>arr_tst[x,:y][::-1])\n",
    "        except:\n",
    "            left.extend([max([i for i, b in enumerate(arr_tst[x,y]>arr_tst[x,:y][::-1]) if b])])\n",
    "        try:\n",
    "            right.extend([min([i for i, b in enumerate(arr_tst[x,y]>arr_tst[x,(y+1):]) if not b])])\n",
    "#             print((arr_tst[x,y]>arr_tst[x,(y+1):]),x,y,arr_tst[x,y],arr_tst[x,(y+1):])\n",
    "        except:\n",
    "            right.extend([max([i for i, b in enumerate(arr_tst[x,y]>arr_tst[x,(y+1):]) if b])])\n",
    "#             print((arr_tst[x,y]>arr_tst[x,(y+1):]),x,y,arr_tst[x,y],arr_tst[x,(y+1):])\n",
    "\n",
    "print((np.array(up)+1),(np.array(right)+1),(np.array(down)+1),(np.array(left)+1))\n",
    "s = (np.array(up)+1)*(np.array(right)+1)*(np.array(down)+1)*(np.array(left)+1)\n",
    "print(s)\n",
    "max(s)"
   ]
  },
  {
   "cell_type": "markdown",
   "id": "976f50d9",
   "metadata": {},
   "source": [
    "Testing"
   ]
  },
  {
   "cell_type": "code",
   "execution_count": null,
   "id": "5b28b042",
   "metadata": {},
   "outputs": [],
   "source": [
    "tst = [\n",
    "'30373',\n",
    "'25512',\n",
    "'65332',\n",
    "'33549',\n",
    "'35390'\n",
    "]"
   ]
  },
  {
   "cell_type": "code",
   "execution_count": null,
   "id": "dc00f57b",
   "metadata": {},
   "outputs": [],
   "source": [
    "import numpy as np\n",
    "arr_tst = np.zeros((5,5))\n",
    "for i in range(len(tst)):\n",
    "    for j in range(len(tst[0])):\n",
    "        arr_tst[i][j]=int(tst[i][j])\n",
    "arr_tst"
   ]
  },
  {
   "cell_type": "code",
   "execution_count": null,
   "id": "23d13ef2",
   "metadata": {},
   "outputs": [],
   "source": [
    "arr_tst = arr_tst.astype(int)"
   ]
  },
  {
   "cell_type": "code",
   "execution_count": null,
   "id": "a019b527",
   "metadata": {},
   "outputs": [],
   "source": [
    "arr_tst"
   ]
  },
  {
   "cell_type": "code",
   "execution_count": null,
   "id": "2b0c028a",
   "metadata": {},
   "outputs": [],
   "source": [
    "False not in (arr_tst[2,2]>arr_tst[2,3:])  # right for (i,j) -> (i,j+1:) ; left for (i,j) -> (i,:j)\n",
    "# arr_tst[2,3:]"
   ]
  },
  {
   "cell_type": "code",
   "execution_count": null,
   "id": "a33e880f",
   "metadata": {},
   "outputs": [],
   "source": [
    "# False in (arr_tst[2,1]>arr_tst[2,2:])  # down for (i,j) -> (i+1:,j) ; up for (i,j) -> (:i,j)\n",
    "arr_tst[3:,2]"
   ]
  },
  {
   "cell_type": "code",
   "execution_count": null,
   "id": "74667377",
   "metadata": {},
   "outputs": [],
   "source": []
  },
  {
   "cell_type": "code",
   "execution_count": null,
   "id": "d973ec29",
   "metadata": {},
   "outputs": [],
   "source": []
  },
  {
   "cell_type": "code",
   "execution_count": null,
   "id": "ee382c26",
   "metadata": {},
   "outputs": [],
   "source": [
    "len(lst[0])"
   ]
  }
 ],
 "metadata": {
  "kernelspec": {
   "display_name": "Python 3 (ipykernel)",
   "language": "python",
   "name": "python3"
  },
  "language_info": {
   "codemirror_mode": {
    "name": "ipython",
    "version": 3
   },
   "file_extension": ".py",
   "mimetype": "text/x-python",
   "name": "python",
   "nbconvert_exporter": "python",
   "pygments_lexer": "ipython3",
   "version": "3.9.12"
  }
 },
 "nbformat": 4,
 "nbformat_minor": 5
}
