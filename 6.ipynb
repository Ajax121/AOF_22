{
 "cells": [
  {
   "cell_type": "code",
   "execution_count": 1,
   "id": "28802873",
   "metadata": {},
   "outputs": [],
   "source": [
    "inp = open('6.txt','r').readlines()"
   ]
  },
  {
   "cell_type": "code",
   "execution_count": 2,
   "id": "4cb2e848",
   "metadata": {},
   "outputs": [],
   "source": [
    "import re\n",
    "lst = []\n",
    "for num in inp:\n",
    "    lst.append((re.sub('\\n','',num)))"
   ]
  },
  {
   "cell_type": "code",
   "execution_count": 3,
   "id": "5f750371",
   "metadata": {},
   "outputs": [],
   "source": [
    "# lst"
   ]
  },
  {
   "cell_type": "code",
   "execution_count": 4,
   "id": "65d50b3c",
   "metadata": {},
   "outputs": [],
   "source": [
    "# lst = 'mjqjpqmgbljsphdztnvjfqwrcgsmlb'"
   ]
  },
  {
   "cell_type": "code",
   "execution_count": 5,
   "id": "39d84568",
   "metadata": {},
   "outputs": [],
   "source": [
    "def tuning(c=4):\n",
    "    var = c\n",
    "    i=0\n",
    "    while True:\n",
    "        c+= 1\n",
    "        i+=1\n",
    "        if len(set(lst[0][i:(var+i)]))==var:\n",
    "            break\n",
    "    return c"
   ]
  },
  {
   "cell_type": "code",
   "execution_count": 6,
   "id": "d826fd99",
   "metadata": {},
   "outputs": [
    {
     "data": {
      "text/plain": [
       "1920"
      ]
     },
     "execution_count": 6,
     "metadata": {},
     "output_type": "execute_result"
    }
   ],
   "source": [
    "tuning()"
   ]
  },
  {
   "cell_type": "code",
   "execution_count": 7,
   "id": "1dab01ce",
   "metadata": {},
   "outputs": [
    {
     "data": {
      "text/plain": [
       "2334"
      ]
     },
     "execution_count": 7,
     "metadata": {},
     "output_type": "execute_result"
    }
   ],
   "source": [
    "tuning(c=14)"
   ]
  },
  {
   "cell_type": "code",
   "execution_count": null,
   "id": "2a4b1fee",
   "metadata": {},
   "outputs": [],
   "source": []
  }
 ],
 "metadata": {
  "kernelspec": {
   "display_name": "Python 3 (ipykernel)",
   "language": "python",
   "name": "python3"
  },
  "language_info": {
   "codemirror_mode": {
    "name": "ipython",
    "version": 3
   },
   "file_extension": ".py",
   "mimetype": "text/x-python",
   "name": "python",
   "nbconvert_exporter": "python",
   "pygments_lexer": "ipython3",
   "version": "3.9.12"
  }
 },
 "nbformat": 4,
 "nbformat_minor": 5
}
