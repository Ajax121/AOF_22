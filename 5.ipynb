{
 "cells": [
  {
   "cell_type": "code",
   "execution_count": 1,
   "id": "c20acc70",
   "metadata": {},
   "outputs": [],
   "source": [
    "inp = open('5.txt','r').readlines()"
   ]
  },
  {
   "cell_type": "code",
   "execution_count": 2,
   "id": "6bd50e51",
   "metadata": {},
   "outputs": [],
   "source": [
    "import re\n",
    "lst = []\n",
    "for num in inp:\n",
    "    lst.append((re.sub('\\n','',num)))"
   ]
  },
  {
   "cell_type": "code",
   "execution_count": null,
   "id": "acd8f360",
   "metadata": {},
   "outputs": [],
   "source": [
    "# lst"
   ]
  },
  {
   "cell_type": "code",
   "execution_count": 3,
   "id": "3cf32dcb",
   "metadata": {},
   "outputs": [],
   "source": [
    "a = ['M','J','C','B','F','R','L','H']\n",
    "b = ['Z','C','D']\n",
    "c = ['H','J','F','C','N','G','W']\n",
    "d = ['P','J','D','M','T','S','B']\n",
    "e = ['N','C','D','R','J']\n",
    "f = ['W','L','D','Q','P','J','G','Z']\n",
    "g = ['P','Z','T','F','R','H']\n",
    "h = ['L','V','M','G']\n",
    "i = ['C','B','G','P','F','Q','R','J']"
   ]
  },
  {
   "cell_type": "code",
   "execution_count": 4,
   "id": "93267fd6",
   "metadata": {},
   "outputs": [],
   "source": [
    "mapping = {'1':list(a),'2':list(b),'3':list(c),'4':list(d),'5':list(e),'6':list(f),'7':list(g),'8':list(h),'9':list(i)}"
   ]
  },
  {
   "cell_type": "code",
   "execution_count": null,
   "id": "347ef5be",
   "metadata": {},
   "outputs": [],
   "source": [
    "# mapping['1']"
   ]
  },
  {
   "cell_type": "code",
   "execution_count": 5,
   "id": "c035d9f9",
   "metadata": {},
   "outputs": [],
   "source": [
    "# PART 1\n",
    "for i in lst[10:]:\n",
    "    instr = re.findall(r'\\d+',i)\n",
    "#     print(i,instr[2],instr[1])\n",
    "    for _ in range(int(instr[0])):\n",
    "        mapping[instr[2]].extend(mapping[instr[1]].pop())\n"
   ]
  },
  {
   "cell_type": "code",
   "execution_count": 6,
   "id": "19c6d5b8",
   "metadata": {},
   "outputs": [
    {
     "data": {
      "text/plain": [
       "'TQRFCBSJJ'"
      ]
     },
     "execution_count": 6,
     "metadata": {},
     "output_type": "execute_result"
    }
   ],
   "source": [
    "''.join([l[-1] for l in list(mapping.values())])"
   ]
  },
  {
   "cell_type": "code",
   "execution_count": null,
   "id": "aaf21472",
   "metadata": {},
   "outputs": [],
   "source": [
    "# lst[10:][:6]"
   ]
  },
  {
   "cell_type": "code",
   "execution_count": 7,
   "id": "9dd0943e",
   "metadata": {},
   "outputs": [],
   "source": [
    "a = ['M','J','C','B','F','R','L','H']\n",
    "b = ['Z','C','D']\n",
    "c = ['H','J','F','C','N','G','W']\n",
    "d = ['P','J','D','M','T','S','B']\n",
    "e = ['N','C','D','R','J']\n",
    "f = ['W','L','D','Q','P','J','G','Z']\n",
    "g = ['P','Z','T','F','R','H']\n",
    "h = ['L','V','M','G']\n",
    "i = ['C','B','G','P','F','Q','R','J']"
   ]
  },
  {
   "cell_type": "code",
   "execution_count": 8,
   "id": "ef9da0d6",
   "metadata": {},
   "outputs": [],
   "source": [
    "mapping = {'1':list(a),'2':list(b),'3':list(c),'4':list(d),'5':list(e),'6':list(f),'7':list(g),'8':list(h),'9':list(i)}"
   ]
  },
  {
   "cell_type": "code",
   "execution_count": 9,
   "id": "0c45f305",
   "metadata": {},
   "outputs": [],
   "source": [
    "# PART 2\n",
    "for i in lst[10:]:\n",
    "    instr = re.findall(r'\\d+',i)\n",
    "    if int(instr[0])>1:\n",
    "        tmp=[]\n",
    "        for _ in range(int(instr[0])):\n",
    "            tmp.append(mapping[instr[1]].pop())\n",
    "        mapping[instr[2]].extend(tmp[::-1])\n",
    "    else:\n",
    "        for _ in range(int(instr[0])):\n",
    "            mapping[instr[2]].extend(mapping[instr[1]].pop())\n"
   ]
  },
  {
   "cell_type": "code",
   "execution_count": 10,
   "id": "1927153f",
   "metadata": {},
   "outputs": [
    {
     "data": {
      "text/plain": [
       "'RMHFJNVFP'"
      ]
     },
     "execution_count": 10,
     "metadata": {},
     "output_type": "execute_result"
    }
   ],
   "source": [
    "''.join([l[-1] for l in list(mapping.values())])"
   ]
  },
  {
   "cell_type": "markdown",
   "id": "dbe50f65",
   "metadata": {},
   "source": [
    "Testing"
   ]
  },
  {
   "cell_type": "code",
   "execution_count": null,
   "id": "c52b5779",
   "metadata": {},
   "outputs": [],
   "source": [
    "tst = [    \n",
    "'    [D]    ',\n",
    "'[N] [C]    ',\n",
    "'[Z] [M] [P]',\n",
    "' 1   2   3 ',\n",
    "'',\n",
    "'move 1 from 2 to 1',\n",
    "'move 3 from 1 to 3',\n",
    "'move 2 from 2 to 1',\n",
    "'move 1 from 1 to 2']"
   ]
  },
  {
   "cell_type": "code",
   "execution_count": null,
   "id": "22c152ad",
   "metadata": {},
   "outputs": [],
   "source": [
    "a = ['Z','N']\n",
    "b = ['M','C','D']\n",
    "c = ['P']"
   ]
  },
  {
   "cell_type": "code",
   "execution_count": null,
   "id": "aa56e0cb",
   "metadata": {},
   "outputs": [],
   "source": [
    "a.append(b.pop())\n",
    "a"
   ]
  },
  {
   "cell_type": "code",
   "execution_count": null,
   "id": "410af1d2",
   "metadata": {},
   "outputs": [],
   "source": [
    "a.sort()\n",
    "c.append(a.pop())\n",
    "c.append(a.pop())\n",
    "c.append(a.pop())\n",
    "c"
   ]
  },
  {
   "cell_type": "code",
   "execution_count": null,
   "id": "e0aa453e",
   "metadata": {},
   "outputs": [],
   "source": [
    "b.sort()\n",
    "a.append(b.pop())\n",
    "a.append(b.pop())\n",
    "a"
   ]
  },
  {
   "cell_type": "code",
   "execution_count": null,
   "id": "7c0d9bd8",
   "metadata": {},
   "outputs": [],
   "source": [
    "b.append(a.pop())\n",
    "b"
   ]
  },
  {
   "cell_type": "code",
   "execution_count": null,
   "id": "2dec2c1f",
   "metadata": {},
   "outputs": [],
   "source": [
    "a,b,c"
   ]
  },
  {
   "cell_type": "code",
   "execution_count": null,
   "id": "867064ec",
   "metadata": {},
   "outputs": [],
   "source": [
    "tst[5:]"
   ]
  },
  {
   "cell_type": "code",
   "execution_count": null,
   "id": "f0243ca1",
   "metadata": {},
   "outputs": [],
   "source": []
  },
  {
   "cell_type": "code",
   "execution_count": null,
   "id": "4cfccb8e",
   "metadata": {},
   "outputs": [],
   "source": [
    "ttt = re.findall(r'\\d+','move 1 from 2 to 1')\n",
    "ttt"
   ]
  },
  {
   "cell_type": "code",
   "execution_count": null,
   "id": "f5b02106",
   "metadata": {},
   "outputs": [],
   "source": [
    "list(a)"
   ]
  },
  {
   "cell_type": "code",
   "execution_count": null,
   "id": "edd07efd",
   "metadata": {},
   "outputs": [],
   "source": []
  },
  {
   "cell_type": "code",
   "execution_count": null,
   "id": "afb225d7",
   "metadata": {},
   "outputs": [],
   "source": [
    "mapping_tst = {'1':list(a),'2':list(b),'3':list(c)}"
   ]
  }
 ],
 "metadata": {
  "kernelspec": {
   "display_name": "Python 3 (ipykernel)",
   "language": "python",
   "name": "python3"
  },
  "language_info": {
   "codemirror_mode": {
    "name": "ipython",
    "version": 3
   },
   "file_extension": ".py",
   "mimetype": "text/x-python",
   "name": "python",
   "nbconvert_exporter": "python",
   "pygments_lexer": "ipython3",
   "version": "3.9.12"
  }
 },
 "nbformat": 4,
 "nbformat_minor": 5
}
